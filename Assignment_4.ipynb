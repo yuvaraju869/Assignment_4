{
 "cells": [
  {
   "cell_type": "code",
   "execution_count": null,
   "id": "158c5ece",
   "metadata": {},
   "outputs": [],
   "source": [
    "# Write a Python program to create a lambda function that adds 25 to a given number passed in as an argument."
   ]
  },
  {
   "cell_type": "code",
   "execution_count": 1,
   "id": "6ad6ba59",
   "metadata": {},
   "outputs": [
    {
     "name": "stdout",
     "output_type": "stream",
     "text": [
      "35\n"
     ]
    }
   ],
   "source": [
    "add_25 = lambda x: x + 25\n",
    "\n",
    "# Test the lambda function with the sample input\n",
    "sample_input = 10\n",
    "sample_output = add_25(sample_input)\n",
    "print(sample_output)  # Output: 35"
   ]
  },
  {
   "cell_type": "code",
   "execution_count": null,
   "id": "d85a6996",
   "metadata": {},
   "outputs": [],
   "source": []
  }
 ],
 "metadata": {
  "kernelspec": {
   "display_name": "Python 3 (ipykernel)",
   "language": "python",
   "name": "python3"
  },
  "language_info": {
   "codemirror_mode": {
    "name": "ipython",
    "version": 3
   },
   "file_extension": ".py",
   "mimetype": "text/x-python",
   "name": "python",
   "nbconvert_exporter": "python",
   "pygments_lexer": "ipython3",
   "version": "3.11.3"
  }
 },
 "nbformat": 4,
 "nbformat_minor": 5
}
