{
 "cells": [
  {
   "cell_type": "code",
   "execution_count": 2,
   "id": "8eec60fd",
   "metadata": {},
   "outputs": [],
   "source": [
    "# Write a Python program to square the elements of a list using map() function."
   ]
  },
  {
   "cell_type": "code",
   "execution_count": 4,
   "id": "4943119b",
   "metadata": {},
   "outputs": [
    {
     "name": "stdout",
     "output_type": "stream",
     "text": [
      "Square the elements of the list:\n",
      "[16, 25, 4, 81]\n"
     ]
    }
   ],
   "source": [
    "# Sample list of integers\n",
    "sample_list = [4, 5, 2, 9]\n",
    "\n",
    "# Use map with a lambda function to square each element in the list\n",
    "result = list(map(lambda x: x ** 2, sample_list))\n",
    "\n",
    "# Print the result\n",
    "print(\"Square the elements of the list:\")\n",
    "print(result)\n"
   ]
  },
  {
   "cell_type": "code",
   "execution_count": null,
   "id": "5da82474",
   "metadata": {},
   "outputs": [],
   "source": []
  }
 ],
 "metadata": {
  "kernelspec": {
   "display_name": "Python 3 (ipykernel)",
   "language": "python",
   "name": "python3"
  },
  "language_info": {
   "codemirror_mode": {
    "name": "ipython",
    "version": 3
   },
   "file_extension": ".py",
   "mimetype": "text/x-python",
   "name": "python",
   "nbconvert_exporter": "python",
   "pygments_lexer": "ipython3",
   "version": "3.11.3"
  }
 },
 "nbformat": 4,
 "nbformat_minor": 5
}
